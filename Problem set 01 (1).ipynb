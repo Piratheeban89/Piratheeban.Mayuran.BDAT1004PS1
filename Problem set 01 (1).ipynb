{
 "cells": [
  {
   "cell_type": "markdown",
   "id": "13aa6ff4",
   "metadata": {},
   "source": [
    "# Question 1\n",
    "What data type is each of the following?"
   ]
  },
  {
   "cell_type": "markdown",
   "id": "e5935ec5",
   "metadata": {},
   "source": [
    "| Data     | Type      |\n",
    "|----------|-----------|\n",
    "| 5        | Integer   |\n",
    "| 5.0      | Decimal   |\n",
    "| 5 > 1    | Boolean   |\n",
    "| '5'      | String    |\n",
    "| 5 * 2    | Arithmetic|\n",
    "| '5' * 2  | String    |\n",
    "| '5' + '2'| String    |\n",
    "| 5 / 2    | Arithmetic|\n",
    "| 5 % 2    | Arithmetic|\n",
    "| {5, 2, 1}| Array     |\n",
    "| 5 == 3   | Boolean   |\n",
    "| Pi       | Decimal   |\n"
   ]
  },
  {
   "cell_type": "markdown",
   "id": "10c7d27d",
   "metadata": {},
   "source": [
    "# Question 2\n",
    "Write (and evaluate) C# expressions that answer these questions:\n",
    "a. How many letters are there in 'Supercalifragilisticexpialidocious'?\n",
    "b. Does 'Supercalifragilisticexpialidocious' contain 'ice' as a substring? \n",
    "c. Which of the following words is the longest: Supercalifragilisticexpialidocious, Honorificabilitudinitatibus, or\n",
    "   Bababadalgharaghtakamminarronnkonn?\n",
    "d. Which composer comes first in the dictionary: 'Berlioz', 'Borodin', 'Brian', 'Bartok', 'Bellini', 'Buxtehude', 'Bernstein'.      Which one comes last?\n"
   ]
  },
  {
   "cell_type": "markdown",
   "id": "20603714",
   "metadata": {},
   "source": [
    "//Question 02, Part a.\n",
    "using System.Collections.Generic;\n",
    "\n",
    "string input = \"Supercalifragilisticexpialidocious\";\n",
    "int letterCount = input.Length;\n",
    "Console.Write(\"Answer for Question 02, part a: \");\n",
    "Console.WriteLine(\"Number of letters the sentences contains is: \" + letterCount);\n",
    "\n",
    "//Question 02, Part b,\n",
    "bool containsIce = input.Contains(\"ice\");\n",
    "Console.Write(\"Answer for Question 02, part b: \");\n",
    "Console.WriteLine(\"Is the statement contains 'ice': \" + containsIce);\n",
    "\n",
    "//Question 02, Part c\n",
    "string input1 = \"Supercalifragilisticexpialidocious\";\n",
    "string input2 = \"Honorificabilitudinitatibus\";\n",
    "string input3 = \"Bababadalgharaghtakamminarronnkonn\";\n",
    "\n",
    "int letterCount1 = input1.Length;\n",
    "int letterCount2 = input2.Length;\n",
    "int letterCount3 = input3.Length;\n",
    "\n",
    "if (letterCount1 > letterCount2)\n",
    "{\n",
    "    if (letterCount1 > letterCount3)\n",
    "    {\n",
    "        Console.WriteLine(\"{0} is the longest\", input1);\n",
    "    }\n",
    "    else\n",
    "    {\n",
    "        Console.Write(\"Answer for Question 02, part c: \");\n",
    "        Console.WriteLine(\"{0} is the longest\", input3);\n",
    "    }\n",
    "}\n",
    "else\n",
    "{\n",
    "    if (letterCount2 > letterCount3)\n",
    "    {\n",
    "        Console.Write(\"Answer for Question 02, part c: \");\n",
    "        Console.WriteLine(\"{0} is the longest\", input2);\n",
    "    }\n",
    "    else\n",
    "    {\n",
    "        Console.Write(\"Answer for Question 02, part c: \");\n",
    "        Console.WriteLine(\"{0} is the longest\", input3);\n",
    "    }\n",
    "}\n",
    "\n",
    "//Question 02, Part d\n",
    "string[] names = { \"Berlioz\", \"Borodin\", \"Brian\", \"Bartok\", \"Bellini\", \"Buxtehude\", \"Bernstein\" };\n",
    "\n",
    "Array.Sort(names);\n",
    "\n",
    "string first= names[0];\n",
    "string last = names[names.Length - 1];\n",
    "Console.Write(\"Answer for Question 02, part d: \");\n",
    "Console.Write(\"First is: \" + first+ \" | \");\n",
    "Console.WriteLine(\"Last is: \" + last);\n",
    "\n",
    "\n"
   ]
  },
  {
   "cell_type": "markdown",
   "id": "a2382303",
   "metadata": {},
   "source": [
    "# Question 3\n",
    "Implement function triangleArea(a,b,c) that takes as input the lengths of the 3\n",
    "sides of a triangle and returns the area of the triangle. By Heron's formula, the area\n",
    "of a triangle with side lengths a, b, and c is s(s - a)(s -b)(s -c), wheres = (a+b+c)/2. \n"
   ]
  },
  {
   "cell_type": "markdown",
   "id": "76192ef8",
   "metadata": {},
   "source": [
    "double a = 2;\n",
    "double b = 2;\n",
    "double c = 2;\n",
    "\n",
    "double s = (a + b + c) / 2;\n",
    "double area = Math.Sqrt(s * (s - a) * (s - b) * (s - c));\n",
    "Console.Write(\"Answer for Question 03 is:  \");\n",
    "Console.Write($\"Are of the triangle is ({a},{b},{c})\" + \"= \");\n",
    "Console.WriteLine(area);"
   ]
  },
  {
   "cell_type": "markdown",
   "id": "0ac1d97c",
   "metadata": {},
   "source": [
    "# Question 4\n",
    "Write a program in C# Sharp to separate odd and even integers in separate arrays.\n",
    "Go to the editor\n",
    "Test Data :\n",
    "Input the number of elements to be stored in the array :5\n",
    "Input 5 elements in the array :\n",
    "element - 0 : 25\n",
    "element - 1 : 47\n",
    "element - 2 : 42\n",
    "element - 3 : 56\n",
    "element - 4 : 32\n",
    "Expected Output:\n",
    "The Even elements are:\n",
    "42 56 32\n",
    "The Odd elements are :\n",
    "25 47"
   ]
  },
  {
   "cell_type": "markdown",
   "id": "f8d93eb0",
   "metadata": {},
   "source": [
    "int[] numbers = new int[5];\n",
    "numbers[0] = 25;\n",
    "numbers[1] = 47;\n",
    "numbers[2] = 42;\n",
    "numbers[3] = 56;\n",
    "numbers[4] = 32;\n",
    "\n",
    "\n",
    "List<int> evenNumbers = new List<int>();\n",
    "        List<int> oddNumbers = new List<int>();\n",
    "\n",
    "        for (int i = 0; i < numbers.Length; i++)\n",
    "        {\n",
    "            if (numbers[i] % 2 == 0)\n",
    "            {\n",
    "                evenNumbers.Add(numbers[i]);\n",
    "            }\n",
    "            else\n",
    "            {\n",
    "                oddNumbers.Add(numbers[i]);\n",
    "            }\n",
    "        }\n",
    "\n",
    "Console.WriteLine(\"The even elements are: \");\n",
    "foreach (int number in evenNumbers)\n",
    "{\n",
    "    Console.Write(number + \" \" );\n",
    "}\n",
    "\n",
    "Console.WriteLine(\"\\nThe odd elements are: \");\n",
    "foreach (int number in oddNumbers)\n",
    "{\n",
    "    Console.Write(number + \" \");\n",
    "}"
   ]
  },
  {
   "cell_type": "code",
   "execution_count": 64,
   "id": "7fc68a13",
   "metadata": {},
   "outputs": [
    {
     "name": "stdout",
     "output_type": "stream",
     "text": [
      "True\n"
     ]
    }
   ],
   "source": [
    "s = 'rock'\n",
    "t = 'climbing'\n",
    "print(s > t)"
   ]
  },
  {
   "cell_type": "markdown",
   "id": "3fdae056",
   "metadata": {},
   "source": [
    "# Output of Q2,Q3 &Q4"
   ]
  },
  {
   "cell_type": "markdown",
   "id": "35b22944",
   "metadata": {},
   "source": [
    "![output](output.png)\n"
   ]
  },
  {
   "cell_type": "markdown",
   "id": "d376cfc8",
   "metadata": {},
   "source": [
    "# Question 6\n",
    "16. You can turn a word into pig-Latin using the following two rules (simplified):\n",
    "• If the word starts with a consonant, move that letter to the end and append'ay'. For example, 'happy' becomes 'appyhay' and 'pencil' becomes 'encilpay'.\n",
    "\n",
    "• If the word starts with a vowel, simply append 'way' to the end of the word. For example, 'enter' becomes 'enterway' and 'other' becomes 'otherway' . For our purposes, there are 5 vowels: a, e, i, o, u (so we count y as a consonant). Write a function pig() that takes a word (i.e., a string) as input and returns its pigLatin form. Your function should still work if the input word contains upper case characters. Your output should always be lower case however. "
   ]
  },
  {
   "cell_type": "code",
   "execution_count": 3,
   "id": "21524d14",
   "metadata": {},
   "outputs": [
    {
     "name": "stdout",
     "output_type": "stream",
     "text": [
      "Pig Latin: appyhay\n",
      "Pig Latin: enterway\n"
     ]
    }
   ],
   "source": [
    "def pig(words):\n",
    "    vowels = ['a', 'e', 'i', 'o', 'u']\n",
    "    words = words.lower()  \n",
    "    if words[0] in vowels:\n",
    "        return words + 'way'\n",
    "    else:\n",
    "        return words[1:] + words[0] + 'ay'\n",
    "\n",
    "pig_latin = pig('Happy')\n",
    "print(\"Pig Latin:\", pig_latin)\n",
    "\n",
    "pig_latin1 = pig('Enter')\n",
    "print(\"Pig Latin:\", pig_latin1)"
   ]
  },
  {
   "cell_type": "markdown",
   "id": "3879a574",
   "metadata": {},
   "source": [
    "# Question 07\n",
    "File bloodtype1.txt records blood-types of patients (A, B, AB, O or OO) at a clinic. Write a function bldcount() that reads the file with name name and reports (i.e., prints) how many patients there are in each bloodtype."
   ]
  },
  {
   "cell_type": "code",
   "execution_count": 33,
   "id": "6db71237",
   "metadata": {},
   "outputs": [
    {
     "name": "stdout",
     "output_type": "stream",
     "text": [
      "AB AB B O A A AB O AB A O O A A A O O O AB O A A A A A AB AB A AB O AB O A O O O AB O AB AB AB A A O \n",
      "\n",
      "There are 15 patients of blood type A.\n",
      "There are 13 patients of blood type AB.\n",
      "There are 15 patients of blood type O.\n",
      "There are 1 patients of blood type B.\n",
      "There are 0 patients of blood type OO.\n"
     ]
    }
   ],
   "source": [
    "infile = open('bloodtype1.txt')\n",
    "content=infile.read()\n",
    "print (content)\n",
    "seperated_content = content.split(\" \")\n",
    "count_a = seperated_content.count('A')\n",
    "count_ab = seperated_content.count('AB')\n",
    "count_o = seperated_content.count('O')\n",
    "count_b = seperated_content.count('B')\n",
    "count_oo = seperated_content.count('OO')\n",
    "print(\"There are\", count_a, \"patients of blood type A.\")\n",
    "print(\"There are\", count_ab, \"patients of blood type AB.\")\n",
    "print(\"There are\", count_o, \"patients of blood type O.\")\n",
    "print(\"There are\", count_b, \"patients of blood type B.\")\n",
    "print(\"There are\", count_oo, \"patients of blood type OO.\")"
   ]
  },
  {
   "cell_type": "markdown",
   "id": "13d18603",
   "metadata": {},
   "source": [
    "# Question 08"
   ]
  },
  {
   "cell_type": "code",
   "execution_count": 54,
   "id": "70b71d5a",
   "metadata": {},
   "outputs": [
    {
     "name": "stdout",
     "output_type": "stream",
     "text": [
      "122.96544\n",
      "1.241401\n"
     ]
    }
   ],
   "source": [
    "infile = open('currencies.txt')\n",
    "content = infile.readlines()\n",
    "\n",
    "def curconv(currency, amount):\n",
    "    for line in content:\n",
    "        values = line.split()\n",
    "        if values[0] == currency:\n",
    "            rate = float(values[1])\n",
    "            usd_amount = amount * rate\n",
    "            return usd_amount\n",
    "\n",
    "usd_value = curconv('EUR', 100)\n",
    "print(usd_value)\n",
    "\n",
    "usd_value = curconv('JPY', 100)\n",
    "print(usd_value)\n",
    "\n",
    "\n"
   ]
  },
  {
   "cell_type": "markdown",
   "id": "f1a5ca6c",
   "metadata": {},
   "source": [
    "# Question 09"
   ]
  },
  {
   "cell_type": "markdown",
   "id": "2cb8ad7f",
   "metadata": {},
   "source": [
    "| question                                                   | error type                                               |\n",
    "|------------------------------------------------------------|----------------------------------------------------------|\n",
    "| 6 +'a'                                                     | TypeError: unsupported operand type(s) for +: 'int' and 'str' |\n",
    "| Referring to the 12th item of a list that has only 10 items | IndexError: list index out of range                     |\n",
    "| math.sqrt(-1.0)                                            | ValueError: math domain error                           |\n",
    "| print(x)                                                   | NameError: name 'x' is not defined                      |\n",
    "| Trying to open a file that does not exist                  | FileNotFoundError: [Errno 2] No such file or directory: 'currency.txt' |\n"
   ]
  },
  {
   "cell_type": "code",
   "execution_count": 56,
   "id": "2bef526f",
   "metadata": {},
   "outputs": [
    {
     "ename": "TypeError",
     "evalue": "unsupported operand type(s) for +: 'int' and 'str'",
     "output_type": "error",
     "traceback": [
      "\u001b[1;31m---------------------------------------------------------------------------\u001b[0m",
      "\u001b[1;31mTypeError\u001b[0m                                 Traceback (most recent call last)",
      "Cell \u001b[1;32mIn[56], line 1\u001b[0m\n\u001b[1;32m----> 1\u001b[0m \u001b[38;5;28mprint\u001b[39m(\u001b[38;5;241;43m6\u001b[39;49m\u001b[38;5;241;43m+\u001b[39;49m\u001b[38;5;124;43m'\u001b[39;49m\u001b[38;5;124;43ma\u001b[39;49m\u001b[38;5;124;43m'\u001b[39;49m)\n\u001b[0;32m      3\u001b[0m my_list \u001b[38;5;241m=\u001b[39m [\u001b[38;5;241m1\u001b[39m, \u001b[38;5;241m2\u001b[39m, \u001b[38;5;241m3\u001b[39m, \u001b[38;5;241m4\u001b[39m, \u001b[38;5;241m5\u001b[39m]\n\u001b[0;32m      4\u001b[0m \u001b[38;5;28mprint\u001b[39m(my_list[\u001b[38;5;241m5\u001b[39m])\n",
      "\u001b[1;31mTypeError\u001b[0m: unsupported operand type(s) for +: 'int' and 'str'"
     ]
    }
   ],
   "source": [
    "print(6+'a')\n"
   ]
  },
  {
   "cell_type": "code",
   "execution_count": 57,
   "id": "e1bf3436",
   "metadata": {},
   "outputs": [
    {
     "ename": "IndexError",
     "evalue": "list index out of range",
     "output_type": "error",
     "traceback": [
      "\u001b[1;31m---------------------------------------------------------------------------\u001b[0m",
      "\u001b[1;31mIndexError\u001b[0m                                Traceback (most recent call last)",
      "Cell \u001b[1;32mIn[57], line 2\u001b[0m\n\u001b[0;32m      1\u001b[0m my_list \u001b[38;5;241m=\u001b[39m [\u001b[38;5;241m1\u001b[39m, \u001b[38;5;241m2\u001b[39m, \u001b[38;5;241m3\u001b[39m, \u001b[38;5;241m4\u001b[39m, \u001b[38;5;241m5\u001b[39m]\n\u001b[1;32m----> 2\u001b[0m \u001b[38;5;28mprint\u001b[39m(\u001b[43mmy_list\u001b[49m\u001b[43m[\u001b[49m\u001b[38;5;241;43m5\u001b[39;49m\u001b[43m]\u001b[49m)\n",
      "\u001b[1;31mIndexError\u001b[0m: list index out of range"
     ]
    }
   ],
   "source": [
    "my_list = [1, 2, 3, 4, 5]\n",
    "print(my_list[5])\n"
   ]
  },
  {
   "cell_type": "code",
   "execution_count": 58,
   "id": "1ea15725",
   "metadata": {},
   "outputs": [
    {
     "ename": "ValueError",
     "evalue": "math domain error",
     "output_type": "error",
     "traceback": [
      "\u001b[1;31m---------------------------------------------------------------------------\u001b[0m",
      "\u001b[1;31mValueError\u001b[0m                                Traceback (most recent call last)",
      "Cell \u001b[1;32mIn[58], line 3\u001b[0m\n\u001b[0;32m      1\u001b[0m \u001b[38;5;28;01mimport\u001b[39;00m \u001b[38;5;21;01mmath\u001b[39;00m\n\u001b[1;32m----> 3\u001b[0m result \u001b[38;5;241m=\u001b[39m \u001b[43mmath\u001b[49m\u001b[38;5;241;43m.\u001b[39;49m\u001b[43msqrt\u001b[49m\u001b[43m(\u001b[49m\u001b[38;5;241;43m-\u001b[39;49m\u001b[38;5;241;43m1.0\u001b[39;49m\u001b[43m)\u001b[49m\n\u001b[0;32m      4\u001b[0m \u001b[38;5;28mprint\u001b[39m(result)\n",
      "\u001b[1;31mValueError\u001b[0m: math domain error"
     ]
    }
   ],
   "source": [
    "import math\n",
    "\n",
    "result = math.sqrt(-1.0)\n",
    "print(result)\n"
   ]
  },
  {
   "cell_type": "code",
   "execution_count": 59,
   "id": "30c86896",
   "metadata": {},
   "outputs": [
    {
     "ename": "NameError",
     "evalue": "name 'x' is not defined",
     "output_type": "error",
     "traceback": [
      "\u001b[1;31m---------------------------------------------------------------------------\u001b[0m",
      "\u001b[1;31mNameError\u001b[0m                                 Traceback (most recent call last)",
      "Cell \u001b[1;32mIn[59], line 1\u001b[0m\n\u001b[1;32m----> 1\u001b[0m \u001b[38;5;28mprint\u001b[39m(\u001b[43mx\u001b[49m)\n",
      "\u001b[1;31mNameError\u001b[0m: name 'x' is not defined"
     ]
    }
   ],
   "source": [
    "print(x)\n"
   ]
  },
  {
   "cell_type": "code",
   "execution_count": 60,
   "id": "fd24f862",
   "metadata": {},
   "outputs": [
    {
     "ename": "FileNotFoundError",
     "evalue": "[Errno 2] No such file or directory: 'currency.txt'",
     "output_type": "error",
     "traceback": [
      "\u001b[1;31m---------------------------------------------------------------------------\u001b[0m",
      "\u001b[1;31mFileNotFoundError\u001b[0m                         Traceback (most recent call last)",
      "Cell \u001b[1;32mIn[60], line 1\u001b[0m\n\u001b[1;32m----> 1\u001b[0m infile\u001b[38;5;241m=\u001b[39m \u001b[38;5;28;43mopen\u001b[39;49m\u001b[43m(\u001b[49m\u001b[38;5;124;43m\"\u001b[39;49m\u001b[38;5;124;43mcurrency.txt\u001b[39;49m\u001b[38;5;124;43m\"\u001b[39;49m\u001b[43m)\u001b[49m\n",
      "File \u001b[1;32m~\\anaconda3\\lib\\site-packages\\IPython\\core\\interactiveshell.py:282\u001b[0m, in \u001b[0;36m_modified_open\u001b[1;34m(file, *args, **kwargs)\u001b[0m\n\u001b[0;32m    275\u001b[0m \u001b[38;5;28;01mif\u001b[39;00m file \u001b[38;5;129;01min\u001b[39;00m {\u001b[38;5;241m0\u001b[39m, \u001b[38;5;241m1\u001b[39m, \u001b[38;5;241m2\u001b[39m}:\n\u001b[0;32m    276\u001b[0m     \u001b[38;5;28;01mraise\u001b[39;00m \u001b[38;5;167;01mValueError\u001b[39;00m(\n\u001b[0;32m    277\u001b[0m         \u001b[38;5;124mf\u001b[39m\u001b[38;5;124m\"\u001b[39m\u001b[38;5;124mIPython won\u001b[39m\u001b[38;5;124m'\u001b[39m\u001b[38;5;124mt let you open fd=\u001b[39m\u001b[38;5;132;01m{\u001b[39;00mfile\u001b[38;5;132;01m}\u001b[39;00m\u001b[38;5;124m by default \u001b[39m\u001b[38;5;124m\"\u001b[39m\n\u001b[0;32m    278\u001b[0m         \u001b[38;5;124m\"\u001b[39m\u001b[38;5;124mas it is likely to crash IPython. If you know what you are doing, \u001b[39m\u001b[38;5;124m\"\u001b[39m\n\u001b[0;32m    279\u001b[0m         \u001b[38;5;124m\"\u001b[39m\u001b[38;5;124myou can use builtins\u001b[39m\u001b[38;5;124m'\u001b[39m\u001b[38;5;124m open.\u001b[39m\u001b[38;5;124m\"\u001b[39m\n\u001b[0;32m    280\u001b[0m     )\n\u001b[1;32m--> 282\u001b[0m \u001b[38;5;28;01mreturn\u001b[39;00m io_open(file, \u001b[38;5;241m*\u001b[39margs, \u001b[38;5;241m*\u001b[39m\u001b[38;5;241m*\u001b[39mkwargs)\n",
      "\u001b[1;31mFileNotFoundError\u001b[0m: [Errno 2] No such file or directory: 'currency.txt'"
     ]
    }
   ],
   "source": [
    "infile= open(\"currency.txt\")\n"
   ]
  },
  {
   "cell_type": "markdown",
   "id": "a271e982",
   "metadata": {},
   "source": [
    "# Question 10"
   ]
  },
  {
   "cell_type": "code",
   "execution_count": 62,
   "id": "e4a3ccd3",
   "metadata": {},
   "outputs": [
    {
     "name": "stdout",
     "output_type": "stream",
     "text": [
      "[1, 1, 1, 3, 5, 1, 1, 2, 1, 0, 1, 0, 1, 2, 4, 0, 1, 2, 0, 3, 1, 0, 1, 1, 0, 0]\n",
      "[1, 0, 0, 0, 1, 0, 0, 0, 0, 0, 0, 1, 0, 0, 0, 2, 0, 0, 0, 0, 0, 0, 0, 0, 0, 0]\n"
     ]
    }
   ],
   "source": [
    "def frequencies(text):\n",
    "    letters = 'abcdefghijklmnopqrstuvwxyz'\n",
    "    text = text.lower() \n",
    "    freqList = [0] * len(letters)  \n",
    "\n",
    "    for char in text:\n",
    "        if char in letters:\n",
    "            index = letters.index(char)\n",
    "            freqList[index] += 1\n",
    "\n",
    "    return freqList\n",
    "print(frequencies('The quick red fox got bored and went home.'))\n",
    "\n",
    "\n",
    "print(frequencies('apple'))\n"
   ]
  },
  {
   "cell_type": "code",
   "execution_count": null,
   "id": "251c5274",
   "metadata": {},
   "outputs": [],
   "source": []
  }
 ],
 "metadata": {
  "kernelspec": {
   "display_name": "Python 3 (ipykernel)",
   "language": "python",
   "name": "python3"
  },
  "language_info": {
   "codemirror_mode": {
    "name": "ipython",
    "version": 3
   },
   "file_extension": ".py",
   "mimetype": "text/x-python",
   "name": "python",
   "nbconvert_exporter": "python",
   "pygments_lexer": "ipython3",
   "version": "3.10.9"
  }
 },
 "nbformat": 4,
 "nbformat_minor": 5
}
